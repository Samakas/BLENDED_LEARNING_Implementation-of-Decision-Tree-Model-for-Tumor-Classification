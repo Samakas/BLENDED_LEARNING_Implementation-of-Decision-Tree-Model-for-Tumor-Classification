{
 "cells": [
  {
   "cell_type": "code",
   "execution_count": 1,
   "id": "ad2b2238-6b2c-4d43-a37e-3b26cb78e388",
   "metadata": {},
   "outputs": [
    {
     "name": "stdout",
     "output_type": "stream",
     "text": [
      "   Clump  UnifSize  UnifShape  MargAdh  SingEpiSize  BareNuc  BlandChrom  \\\n",
      "0      5         1          1        1            2        1           3   \n",
      "1      5         4          4        5            7       10           3   \n",
      "2      3         1          1        1            2        2           3   \n",
      "3      6         8          8        1            3        4           3   \n",
      "4      4         1          1        3            2        1           3   \n",
      "\n",
      "   NormNucl  Mit  Class  \n",
      "0         1    1      0  \n",
      "1         2    1      0  \n",
      "2         1    1      0  \n",
      "3         7    1      0  \n",
      "4         1    1      0  \n",
      "Index(['Clump', 'UnifSize', 'UnifShape', 'MargAdh', 'SingEpiSize', 'BareNuc',\n",
      "       'BlandChrom', 'NormNucl', 'Mit', 'Class'],\n",
      "      dtype='object')\n",
      "Accuracy: 0.9463414634146341\n",
      "Classification Report:\n",
      "               precision    recall  f1-score   support\n",
      "\n",
      "           0       0.94      0.98      0.96       127\n",
      "           1       0.96      0.90      0.93        78\n",
      "\n",
      "    accuracy                           0.95       205\n",
      "   macro avg       0.95      0.94      0.94       205\n",
      "weighted avg       0.95      0.95      0.95       205\n",
      "\n"
     ]
    },
    {
     "data": {
      "image/png": "[encoded data removed]",
      "text/plain": [
       "<Figure size 640x480 with 2 Axes>"
      ]
     },
     "metadata": {},
     "output_type": "display_data"
    }
   ],
   "source": [
    "# Import the necessary libraries\n",
    "import pandas as pd\n",
    "from sklearn.model_selection import train_test_split\n",
    "from sklearn.tree import DecisionTreeClassifier\n",
    "from sklearn.metrics import accuracy_score, classification_report, confusion_matrix\n",
    "import seaborn as sns\n",
    "import matplotlib.pyplot as plt\n",
    "\n",
    "# Step 1: Load the dataset\n",
    "data = pd.read_csv('tumor.csv')\n",
    "\n",
    "# Step 2: Explore the dataset\n",
    "# Display the first few rows and column names to verify the structure\n",
    "print(data.head())\n",
    "print(data.columns)\n",
    "\n",
    "# Step 3: Select features and target variable\n",
    "# Drop 'id' and other non-feature columns, using 'diagnosis' as the target\n",
    "X = data.drop(columns=['Class'])  # Remove any irrelevant columns like 'id'\n",
    "y = data['Class']  # The target column indicating benign or malignant diagnosis\n",
    "\n",
    "# Step 4: Split the data into training and testing sets\n",
    "X_train, X_test, y_train, y_test = train_test_split(X, y, test_size=0.3, random_state=42)\n",
    "\n",
    "# Step 5: Initialize and train the Decision Tree model\n",
    "# Create a Decision Tree Classifier and fit it on the training data\n",
    "model = DecisionTreeClassifier(random_state=42)\n",
    "model.fit(X_train, y_train)\n",
    "\n",
    "# Step 6: Evaluate the model\n",
    "# Predict on the test set and evaluate the results\n",
    "y_pred = model.predict(X_test)\n",
    "\n",
    "# Print the accuracy and classification metrics for the model\n",
    "accuracy = accuracy_score(y_test, y_pred)\n",
    "print(\"Accuracy:\", accuracy)\n",
    "print(\"Classification Report:\\n\", classification_report(y_test, y_pred))\n",
    "\n",
    "# Step 7: Visualize the Confusion Matrix\n",
    "# Generate a heatmap of the confusion matrix for better visualization\n",
    "conf_matrix = confusion_matrix(y_test, y_pred)\n",
    "sns.heatmap(conf_matrix, annot=True, fmt=\"d\", cmap=\"Blues\")\n",
    "plt.xlabel(\"Predicted\")\n",
    "plt.ylabel(\"Actual\")\n",
    "plt.title(\"Confusion Matrix\")\n",
    "plt.show()"
   ]
  },
  {
   "cell_type": "code",
   "execution_count": null,
   "id": "52daa9b4-ee98-470e-a1f3-016c0ef32efb",
   "metadata": {},
   "outputs": [],
   "source": []
  }
 ],
 "metadata": {
  "kernelspec": {
   "display_name": "Python 3 (ipykernel)",
   "language": "python",
   "name": "python3"
  },
  "language_info": {
   "codemirror_mode": {
    "name": "ipython",
    "version": 3
   },
   "file_extension": ".py",
   "mimetype": "text/x-python",
   "name": "python",
   "nbconvert_exporter": "python",
   "pygments_lexer": "ipython3",
   "version": "3.12.9"
  }
 },
 "nbformat": 4,
 "nbformat_minor": 5
}
